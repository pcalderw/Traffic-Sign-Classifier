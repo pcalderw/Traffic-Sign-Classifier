{
 "cells": [
  {
   "cell_type": "markdown",
   "metadata": {},
   "source": [
    "# Self-Driving Car Engineer Nanodegree\n",
    "\n",
    "## Deep Learning\n",
    "\n",
    "## Project: Build a Traffic Sign Recognition Classifier\n",
    "\n",
    "In this notebook, a template is provided for you to implement your functionality in stages, which is required to successfully complete this project. If additional code is required that cannot be included in the notebook, be sure that the Python code is successfully imported and included in your submission if necessary. \n",
    "\n",
    "> **Note**: Once you have completed all of the code implementations, you need to finalize your work by exporting the iPython Notebook as an HTML document. Before exporting the notebook to html, all of the code cells need to have been run so that reviewers can see the final implementation and output. You can then export the notebook by using the menu above and navigating to  \\n\",\n",
    "    \"**File -> Download as -> HTML (.html)**. Include the finished document along with this notebook as your submission. \n",
    "\n",
    "In addition to implementing code, there is a writeup to complete. The writeup should be completed in a separate file, which can be either a markdown file or a pdf document. There is a [write up template](https://github.com/udacity/CarND-Traffic-Sign-Classifier-Project/blob/master/writeup_template.md) that can be used to guide the writing process. Completing the code template and writeup template will cover all of the [rubric points](https://review.udacity.com/#!/rubrics/481/view) for this project.\n",
    "\n",
    "The [rubric](https://review.udacity.com/#!/rubrics/481/view) contains \"Stand Out Suggestions\" for enhancing the project beyond the minimum requirements. The stand out suggestions are optional. If you decide to pursue the \"stand out suggestions\", you can include the code in this Ipython notebook and also discuss the results in the writeup file.\n",
    "\n",
    "\n",
    ">**Note:** Code and Markdown cells can be executed using the **Shift + Enter** keyboard shortcut. In addition, Markdown cells can be edited by typically double-clicking the cell to enter edit mode."
   ]
  },
  {
   "cell_type": "markdown",
   "metadata": {},
   "source": [
    "---\n",
    "## Step 0: Load The Data"
   ]
  },
  {
   "cell_type": "code",
   "execution_count": 50,
   "metadata": {},
   "outputs": [],
   "source": [
    "import tensorflow as tf\n",
    "EPOCHS = 50\n",
    "BATCH_SIZE = 128\n",
    "# Load pickled data\n",
    "import pickle\n",
    "\n",
    "# TODO: Fill this in based on where you saved the training and testing data\n",
    "import os\n",
    "cwd = os.getcwd()\n",
    "training_file =  cwd + '/traffic-signs-data/train.p'\n",
    "validation_file= cwd + '/traffic-signs-data/valid.p'\n",
    "testing_file =   cwd + '/traffic-signs-data/test.p'\n",
    "\n",
    "with open(training_file, mode='rb') as f:\n",
    "    train = pickle.load(f)\n",
    "with open(validation_file, mode='rb') as f:\n",
    "    valid = pickle.load(f)\n",
    "with open(testing_file, mode='rb') as f:\n",
    "    test = pickle.load(f)\n",
    "    \n",
    "X_train, y_train = train['features'], train['labels']\n",
    "X_valid, y_valid = valid['features'], valid['labels']\n",
    "X_test, y_test = test['features'], test['labels']"
   ]
  },
  {
   "cell_type": "markdown",
   "metadata": {},
   "source": [
    "---\n",
    "\n",
    "## Step 1: Dataset Summary & Exploration\n",
    "\n",
    "The pickled data is a dictionary with 4 key/value pairs:\n",
    "\n",
    "- `'features'` is a 4D array containing raw pixel data of the traffic sign images, (num examples, width, height, channels).\n",
    "- `'labels'` is a 1D array containing the label/class id of the traffic sign. The file `signnames.csv` contains id -> name mappings for each id.\n",
    "- `'sizes'` is a list containing tuples, (width, height) representing the original width and height the image.\n",
    "- `'coords'` is a list containing tuples, (x1, y1, x2, y2) representing coordinates of a bounding box around the sign in the image. **THESE COORDINATES ASSUME THE ORIGINAL IMAGE. THE PICKLED DATA CONTAINS RESIZED VERSIONS (32 by 32) OF THESE IMAGES**\n",
    "\n",
    "Complete the basic data summary below. Use python, numpy and/or pandas methods to calculate the data summary rather than hard coding the results. For example, the [pandas shape method](http://pandas.pydata.org/pandas-docs/stable/generated/pandas.DataFrame.shape.html) might be useful for calculating some of the summary results. "
   ]
  },
  {
   "cell_type": "markdown",
   "metadata": {},
   "source": [
    "### Provide a Basic Summary of the Data Set Using Python, Numpy and/or Pandas"
   ]
  },
  {
   "cell_type": "code",
   "execution_count": 51,
   "metadata": {},
   "outputs": [
    {
     "name": "stdout",
     "output_type": "stream",
     "text": [
      "Number of training examples = 34799\n",
      "Number of testing examples = 12630\n",
      "Image data shape = (32, 32, 3)\n",
      "Number of classes = 43\n"
     ]
    }
   ],
   "source": [
    "### Replace each question mark with the appropriate value. \n",
    "### Use python, pandas or numpy methods rather than hard coding the results\n",
    "\n",
    "# TODO: Number of training examples\n",
    "n_train = X_train.shape[0]\n",
    "\n",
    "# TODO: Number of validation examples\n",
    "n_validation = X_valid.shape[0]\n",
    "\n",
    "# TODO: Number of testing examples.\n",
    "n_test = X_test.shape[0]\n",
    "\n",
    "# TODO: What's the shape of an traffic sign image?\n",
    "image_shape = X_train.shape[1:]\n",
    "\n",
    "# TODO: How many unique classes/labels there are in the dataset.\n",
    "n_classes = max(y_train) + 1 #Assuming training has at least 1 example of each.\n",
    "\n",
    "print(\"Number of training examples =\", n_train)\n",
    "print(\"Number of testing examples =\", n_test)\n",
    "print(\"Image data shape =\", image_shape)\n",
    "print(\"Number of classes =\", n_classes)"
   ]
  },
  {
   "cell_type": "markdown",
   "metadata": {},
   "source": [
    "### Include an exploratory visualization of the dataset"
   ]
  },
  {
   "cell_type": "markdown",
   "metadata": {},
   "source": [
    "Visualize the German Traffic Signs Dataset using the pickled file(s). This is open ended, suggestions include: plotting traffic sign images, plotting the count of each sign, etc. \n",
    "\n",
    "The [Matplotlib](http://matplotlib.org/) [examples](http://matplotlib.org/examples/index.html) and [gallery](http://matplotlib.org/gallery.html) pages are a great resource for doing visualizations in Python.\n",
    "\n",
    "**NOTE:** It's recommended you start with something simple first. If you wish to do more, come back to it after you've completed the rest of the sections. It can be interesting to look at the distribution of classes in the training, validation and test set. Is the distribution the same? Are there more examples of some classes than others?"
   ]
  },
  {
   "cell_type": "code",
   "execution_count": 52,
   "metadata": {
    "scrolled": false
   },
   "outputs": [
    {
     "name": "stdout",
     "output_type": "stream",
     "text": [
      "['Speed limit (20km/h)', 'Speed limit (30km/h)', 'Speed limit (50km/h)', 'Speed limit (60km/h)', 'Speed limit (70km/h)', 'Speed limit (80km/h)', 'End of speed limit (80km/h)', 'Speed limit (100km/h)', 'Speed limit (120km/h)', 'No passing', 'No passing for vehicles over 3.5 metric tons', 'Right-of-way at the next intersection', 'Priority road', 'Yield', 'Stop', 'No vehicles', 'Vehicles over 3.5 metric tons prohibited', 'No entry', 'General caution', 'Dangerous curve to the left', 'Dangerous curve to the right', 'Double curve', 'Bumpy road', 'Slippery road', 'Road narrows on the right', 'Road work', 'Traffic signals', 'Pedestrians', 'Children crossing', 'Bicycles crossing', 'Beware of ice/snow', 'Wild animals crossing', 'End of all speed and passing limits', 'Turn right ahead', 'Turn left ahead', 'Ahead only', 'Go straight or right', 'Go straight or left', 'Keep right', 'Keep left', 'Roundabout mandatory', 'End of no passing', 'End of no passing by vehicles over 3.5 metric tons']\n"
     ]
    },
    {
     "data": {
      "image/png": "[encoded data removed]",
      "text/plain": [
       "<matplotlib.figure.Figure at 0x7f9006033128>"
      ]
     },
     "metadata": {},
     "output_type": "display_data"
    },
    {
     "data": {
      "image/png": "[encoded data removed]",
      "text/plain": [
       "<matplotlib.figure.Figure at 0x7f903eafd208>"
      ]
     },
     "metadata": {},
     "output_type": "display_data"
    },
    {
     "data": {
      "image/png": "[encoded data removed]",
      "text/plain": [
       "<matplotlib.figure.Figure at 0x7f903f54a358>"
      ]
     },
     "metadata": {},
     "output_type": "display_data"
    },
    {
     "name": "stdout",
     "output_type": "stream",
     "text": [
      "Mean Examples/class: 809.279069767\n",
      "Median Examples/class: 540.0\n",
      "Max Examples/class 2010\n",
      "Min Examples/class 180\n"
     ]
    }
   ],
   "source": [
    "### Data exploration visualization code goes here.\n",
    "### Feel free to use as many code cells as needed.\n",
    "import matplotlib.pyplot as plt\n",
    "import numpy as np\n",
    "# Visualizations will be shown in the notebook.\n",
    "%matplotlib inline\n",
    "\n",
    "random_image = X_train[np.random.randint(0,X_train.shape[0])]\n",
    "plt.figure(figsize=(1,1))\n",
    "plt.imshow(random_image)\n",
    "\n",
    "random_image2 = X_train[np.random.randint(0,X_train.shape[0])]\n",
    "plt.figure(figsize=(1,1))\n",
    "plt.imshow(random_image2)\n",
    "\n",
    "\n",
    "with open(cwd + '/signnames.csv', mode='r', encoding='utf-8') as f:\n",
    "    label_classes = f.readlines()\n",
    "classes = [s.split(',')[1].replace('\\n','') for s in label_classes][1:]\n",
    "ypos = np.arange(len(classes))\n",
    "\n",
    "y_counts = [(y_train == i).sum() for i in range(n_classes)]\n",
    "\n",
    "plt.figure(figsize=(10,10))\n",
    "plt.barh(ypos, y_counts)\n",
    "plt.yticks(ypos, classes)\n",
    "plt.show()\n",
    "print(\"Mean Examples/class:\", np.mean(y_counts))\n",
    "print(\"Median Examples/class:\", np.median(y_counts))\n",
    "print(\"Max Examples/class\", np.max(y_counts))\n",
    "print(\"Min Examples/class\", np.min(y_counts))\n",
    "\n"
   ]
  },
  {
   "cell_type": "markdown",
   "metadata": {},
   "source": [
    "----\n",
    "\n",
    "## Step 2: Design and Test a Model Architecture\n",
    "\n",
    "Design and implement a deep learning model that learns to recognize traffic signs. Train and test your model on the [German Traffic Sign Dataset](http://benchmark.ini.rub.de/?section=gtsrb&subsection=dataset).\n",
    "\n",
    "The LeNet-5 implementation shown in the [classroom](https://classroom.udacity.com/nanodegrees/nd013/parts/fbf77062-5703-404e-b60c-95b78b2f3f9e/modules/6df7ae49-c61c-4bb2-a23e-6527e69209ec/lessons/601ae704-1035-4287-8b11-e2c2716217ad/concepts/d4aca031-508f-4e0b-b493-e7b706120f81) at the end of the CNN lesson is a solid starting point. You'll have to change the number of classes and possibly the preprocessing, but aside from that it's plug and play! \n",
    "\n",
    "With the LeNet-5 solution from the lecture, you should expect a validation set accuracy of about 0.89. To meet specifications, the validation set accuracy will need to be at least 0.93. It is possible to get an even higher accuracy, but 0.93 is the minimum for a successful project submission. \n",
    "\n",
    "There are various aspects to consider when thinking about this problem:\n",
    "\n",
    "- Neural network architecture (is the network over or underfitting?)\n",
    "- Play around preprocessing techniques (normalization, rgb to grayscale, etc)\n",
    "- Number of examples per label (some have more than others).\n",
    "- Generate fake data.\n",
    "\n",
    "Here is an example of a [published baseline model on this problem](http://yann.lecun.com/exdb/publis/pdf/sermanet-ijcnn-11.pdf). It's not required to be familiar with the approach used in the paper but, it's good practice to try to read papers like these."
   ]
  },
  {
   "cell_type": "markdown",
   "metadata": {},
   "source": [
    "### Pre-process the Data Set (normalization, grayscale, etc.)"
   ]
  },
  {
   "cell_type": "markdown",
   "metadata": {},
   "source": [
    "Minimally, the image data should be normalized so that the data has mean zero and equal variance. For image data, `(pixel - 128)/ 128` is a quick way to approximately normalize the data and can be used in this project. \n",
    "\n",
    "Other pre-processing steps are optional. You can try different techniques to see if it improves performance. \n",
    "\n",
    "Use the code cell (or multiple code cells, if necessary) to implement the first step of your project."
   ]
  },
  {
   "cell_type": "markdown",
   "metadata": {},
   "source": [
    "#Increase training data by using only 24x24x1, but each image is now 5 example images\n",
    "Used in a module because "
   ]
  },
  {
   "cell_type": "code",
   "execution_count": 22,
   "metadata": {
    "scrolled": true
   },
   "outputs": [],
   "source": [
    "import segment_image as seg_im\n",
    "import imp  \n",
    "imp.reload(seg_im)  \n",
    "\n",
    "size = len(y_train)\n",
    "#X_train, y_train = seg_im.segment(X_train, y_train)\n",
    "#X_valid = seg_im.center_segment(X_valid)\n",
    "\n",
    "def rgb2grayscale(X):\n",
    "    import cv2\n",
    "    gray = np.zeros((len(X), 32,32,1), dtype=np.float32)\n",
    "    for i in range(0, len(X)):\n",
    "        gray[i] = cv2.cvtColor(X[i], cv2.COLOR_RGB2GRAY).reshape(32,32,1)\n",
    "    return gray\n"
   ]
  },
  {
   "cell_type": "code",
   "execution_count": 23,
   "metadata": {},
   "outputs": [
    {
     "name": "stdout",
     "output_type": "stream",
     "text": [
      "82.677589037\n",
      "255\n",
      "0\n"
     ]
    }
   ],
   "source": [
    "print(np.mean(X_train))\n",
    "print(np.max(X_train))\n",
    "print(np.min(X_train))"
   ]
  },
  {
   "cell_type": "code",
   "execution_count": 54,
   "metadata": {},
   "outputs": [],
   "source": [
    "#Convert to grayscale\n",
    "X_train = rgb2grayscale(X_train)\n",
    "X_valid = rgb2grayscale(X_valid)\n",
    "X_test  = rgb2grayscale(X_test)"
   ]
  },
  {
   "cell_type": "code",
   "execution_count": 64,
   "metadata": {},
   "outputs": [
    {
     "name": "stderr",
     "output_type": "stream",
     "text": [
      "/home/piersapants/miniconda3/envs/carnd-term1/lib/python3.5/site-packages/matplotlib/pyplot.py:524: RuntimeWarning: More than 20 figures have been opened. Figures created through the pyplot interface (`matplotlib.pyplot.figure`) are retained until explicitly closed and may consume too much memory. (To control this warning, see the rcParam `figure.max_open_warning`).\n",
      "  max_open_warning, RuntimeWarning)\n"
     ]
    },
    {
     "data": {
      "image/png": "[encoded data removed]",
      "text/plain": [
       "<matplotlib.figure.Figure at 0x7f903e884f98>"
      ]
     },
     "metadata": {},
     "output_type": "display_data"
    },
    {
     "data": {
      "image/png": "[encoded data removed]",
      "text/plain": [
       "<matplotlib.figure.Figure at 0x7f903e813a58>"
      ]
     },
     "metadata": {},
     "output_type": "display_data"
    },
    {
     "data": {
      "image/png": "[encoded data removed]",
      "text/plain": [
       "<matplotlib.figure.Figure at 0x7f903e71d978>"
      ]
     },
     "metadata": {},
     "output_type": "display_data"
    },
    {
     "data": {
      "image/png": "[encoded data removed]",
      "text/plain": [
       "<matplotlib.figure.Figure at 0x7f903e6b3ac8>"
      ]
     },
     "metadata": {},
     "output_type": "display_data"
    },
    {
     "data": {
      "image/png": "[encoded data removed]",
      "text/plain": [
       "<matplotlib.figure.Figure at 0x7f903e648240>"
      ]
     },
     "metadata": {},
     "output_type": "display_data"
    },
    {
     "data": {
      "image/png": "[encoded data removed]",
      "text/plain": [
       "<matplotlib.figure.Figure at 0x7f903e738240>"
      ]
     },
     "metadata": {},
     "output_type": "display_data"
    },
    {
     "data": {
      "image/png": "[encoded data removed]",
      "text/plain": [
       "<matplotlib.figure.Figure at 0x7f9028066710>"
      ]
     },
     "metadata": {},
     "output_type": "display_data"
    },
    {
     "data": {
      "image/png": "[encoded data removed]",
      "text/plain": [
       "<matplotlib.figure.Figure at 0x7f903bb3fb70>"
      ]
     },
     "metadata": {},
     "output_type": "display_data"
    },
    {
     "data": {
      "image/png": "[encoded data removed]",
      "text/plain": [
       "<matplotlib.figure.Figure at 0x7f903f4ac9b0>"
      ]
     },
     "metadata": {},
     "output_type": "display_data"
    },
    {
     "data": {
      "image/png": "[encoded data removed]",
      "text/plain": [
       "<matplotlib.figure.Figure at 0x7f900575d550>"
      ]
     },
     "metadata": {},
     "output_type": "display_data"
    },
    {
     "data": {
      "image/png": "[encoded data removed]",
      "text/plain": [
       "<matplotlib.figure.Figure at 0x7f903b7093c8>"
      ]
     },
     "metadata": {},
     "output_type": "display_data"
    },
    {
     "data": {
      "image/png": "[encoded data removed]",
      "text/plain": [
       "<matplotlib.figure.Figure at 0x7f903b96a5c0>"
      ]
     },
     "metadata": {},
     "output_type": "display_data"
    },
    {
     "data": {
      "image/png": "[encoded data removed]",
      "text/plain": [
       "<matplotlib.figure.Figure at 0x7f9005e08ac8>"
      ]
     },
     "metadata": {},
     "output_type": "display_data"
    },
    {
     "data": {
      "image/png": "[encoded data removed]",
      "text/plain": [
       "<matplotlib.figure.Figure at 0x7f9005b78d30>"
      ]
     },
     "metadata": {},
     "output_type": "display_data"
    },
    {
     "data": {
      "image/png": "[encoded data removed]",
      "text/plain": [
       "<matplotlib.figure.Figure at 0x7f900601ada0>"
      ]
     },
     "metadata": {},
     "output_type": "display_data"
    },
    {
     "data": {
      "image/png": "[encoded data removed]",
      "text/plain": [
       "<matplotlib.figure.Figure at 0x7f9005e66860>"
      ]
     },
     "metadata": {},
     "output_type": "display_data"
    },
    {
     "data": {
      "image/png": "[encoded data removed]",
      "text/plain": [
       "<matplotlib.figure.Figure at 0x7f900576a978>"
      ]
     },
     "metadata": {},
     "output_type": "display_data"
    },
    {
     "data": {
      "image/png": "[encoded data removed]",
      "text/plain": [
       "<matplotlib.figure.Figure at 0x7f903b85a828>"
      ]
     },
     "metadata": {},
     "output_type": "display_data"
    },
    {
     "data": {
      "image/png": "[encoded data removed]",
      "text/plain": [
       "<matplotlib.figure.Figure at 0x7f903e95f208>"
      ]
     },
     "metadata": {},
     "output_type": "display_data"
    },
    {
     "data": {
      "image/png": "[encoded data removed]",
      "text/plain": [
       "<matplotlib.figure.Figure at 0x7f903f569940>"
      ]
     },
     "metadata": {},
     "output_type": "display_data"
    },
    {
     "data": {
      "image/png": "[encoded data removed]",
      "text/plain": [
       "<matplotlib.figure.Figure at 0x7f903ea72828>"
      ]
     },
     "metadata": {},
     "output_type": "display_data"
    },
    {
     "data": {
      "image/png": "[encoded data removed]",
      "text/plain": [
       "<matplotlib.figure.Figure at 0x7f903e5eff60>"
      ]
     },
     "metadata": {},
     "output_type": "display_data"
    },
    {
     "data": {
      "image/png": "[encoded data removed]",
      "text/plain": [
       "<matplotlib.figure.Figure at 0x7f9005a5e5c0>"
      ]
     },
     "metadata": {},
     "output_type": "display_data"
    },
    {
     "data": {
      "image/png": "[encoded data removed]",
      "text/plain": [
       "<matplotlib.figure.Figure at 0x7f903e5c5400>"
      ]
     },
     "metadata": {},
     "output_type": "display_data"
    },
    {
     "data": {
      "image/png": "[encoded data removed]",
      "text/plain": [
       "<matplotlib.figure.Figure at 0x7f9005ba4cf8>"
      ]
     },
     "metadata": {},
     "output_type": "display_data"
    },
    {
     "data": {
      "image/png": "[encoded data removed]",
      "text/plain": [
       "<matplotlib.figure.Figure at 0x7f9005bd12e8>"
      ]
     },
     "metadata": {},
     "output_type": "display_data"
    },
    {
     "data": {
      "image/png": "[encoded data removed]",
      "text/plain": [
       "<matplotlib.figure.Figure at 0x7f9005ccbe80>"
      ]
     },
     "metadata": {},
     "output_type": "display_data"
    },
    {
     "data": {
      "image/png": "[encoded data removed]",
      "text/plain": [
       "<matplotlib.figure.Figure at 0x7f9005d0de80>"
      ]
     },
     "metadata": {},
     "output_type": "display_data"
    },
    {
     "data": {
      "image/png": "[encoded data removed]",
      "text/plain": [
       "<matplotlib.figure.Figure at 0x7f9005bf8748>"
      ]
     },
     "metadata": {},
     "output_type": "display_data"
    },
    {
     "data": {
      "image/png": "[encoded data removed]",
      "text/plain": [
       "<matplotlib.figure.Figure at 0x7f903ea14e10>"
      ]
     },
     "metadata": {},
     "output_type": "display_data"
    },
    {
     "data": {
      "image/png": "[encoded data removed]",
      "text/plain": [
       "<matplotlib.figure.Figure at 0x7f9005562668>"
      ]
     },
     "metadata": {},
     "output_type": "display_data"
    },
    {
     "data": {
      "image/png": "[encoded data removed]",
      "text/plain": [
       "<matplotlib.figure.Figure at 0x7f90280a3400>"
      ]
     },
     "metadata": {},
     "output_type": "display_data"
    },
    {
     "data": {
      "image/png": "[encoded data removed]",
      "text/plain": [
       "<matplotlib.figure.Figure at 0x7f9005ab7208>"
      ]
     },
     "metadata": {},
     "output_type": "display_data"
    },
    {
     "data": {
      "image/png": "[encoded data removed]",
      "text/plain": [
       "<matplotlib.figure.Figure at 0x7f9005c23208>"
      ]
     },
     "metadata": {},
     "output_type": "display_data"
    },
    {
     "data": {
      "image/png": "[encoded data removed]",
      "text/plain": [
       "<matplotlib.figure.Figure at 0x7f9005df9a90>"
      ]
     },
     "metadata": {},
     "output_type": "display_data"
    },
    {
     "data": {
      "image/png": "[encoded data removed]",
      "text/plain": [
       "<matplotlib.figure.Figure at 0x7f90056c1278>"
      ]
     },
     "metadata": {},
     "output_type": "display_data"
    },
    {
     "data": {
      "image/png": "[encoded data removed]",
      "text/plain": [
       "<matplotlib.figure.Figure at 0x7f900571d4e0>"
      ]
     },
     "metadata": {},
     "output_type": "display_data"
    },
    {
     "data": {
      "image/png": "[encoded data removed]",
      "text/plain": [
       "<matplotlib.figure.Figure at 0x7f9005efd358>"
      ]
     },
     "metadata": {},
     "output_type": "display_data"
    },
    {
     "data": {
      "image/png": "[encoded data removed]",
      "text/plain": [
       "<matplotlib.figure.Figure at 0x7f9005ea50f0>"
      ]
     },
     "metadata": {},
     "output_type": "display_data"
    },
    {
     "data": {
      "image/png": "[encoded data removed]",
      "text/plain": [
       "<matplotlib.figure.Figure at 0x7f9005bf2588>"
      ]
     },
     "metadata": {},
     "output_type": "display_data"
    },
    {
     "data": {
      "image/png": "[encoded data removed]",
      "text/plain": [
       "<matplotlib.figure.Figure at 0x7f903f3d9cf8>"
      ]
     },
     "metadata": {},
     "output_type": "display_data"
    },
    {
     "data": {
      "image/png": "[encoded data removed]",
      "text/plain": [
       "<matplotlib.figure.Figure at 0x7f9005ce1f98>"
      ]
     },
     "metadata": {},
     "output_type": "display_data"
    },
    {
     "data": {
      "image/png": "[encoded data removed]",
      "text/plain": [
       "<matplotlib.figure.Figure at 0x7f90056cbc18>"
      ]
     },
     "metadata": {},
     "output_type": "display_data"
    },
    {
     "data": {
      "image/png": "[encoded data removed]",
      "text/plain": [
       "<matplotlib.figure.Figure at 0x7f90058d48d0>"
      ]
     },
     "metadata": {},
     "output_type": "display_data"
    },
    {
     "data": {
      "text/plain": [
       "<matplotlib.image.AxesImage at 0x7f90059aea20>"
      ]
     },
     "execution_count": 64,
     "metadata": {},
     "output_type": "execute_result"
    },
    {
     "data": {
      "image/png": "[encoded data removed]",
      "text/plain": [
       "<matplotlib.figure.Figure at 0x7f9005eddf28>"
      ]
     },
     "metadata": {},
     "output_type": "display_data"
    },
    {
     "data": {
      "image/png": "[encoded data removed]",
      "text/plain": [
       "<matplotlib.figure.Figure at 0x7f9028092c88>"
      ]
     },
     "metadata": {},
     "output_type": "display_data"
    }
   ],
   "source": [
    "avg_image = np.zeros([43,32,32])\n",
    "for i in range(n_classes):\n",
    "    num_in_class = np.sum(y_train == i)\n",
    "    #print(num_in_class_i)\n",
    "    X_in_class = X_train[y_train == i]\n",
    "    #print(X_in_class.shape)\n",
    "    X_avg = np.sum(X_in_class, axis=0) / num_in_class\n",
    "    #print(X_avg.shape)\n",
    "    avg_image[i] = np.squeeze(X_avg)\n",
    "\n",
    "for y, cls in enumerate(classes):\n",
    "    idxs = [y]\n",
    "    #idxs = np.random.choice(idxs, samples_per_class, replace=False)\n",
    "    for i, idx in enumerate(idxs):\n",
    "        plt_idx = i * n_classes + y + 1\n",
    "        plt.subplot(1, n_classes, plt_idx)\n",
    "        plt.figure(figsize=(1,1))\n",
    "        plt.imshow(avg_image[y], cmap='gray')\n",
    "        plt.axis('off')\n",
    "        if i == 0:\n",
    "            plt.title(cls)\n",
    "plt.show()\n",
    "    \n",
    "plt.figure(figsize=(1,1))\n",
    "plt.imshow(avg_image[index], cmap='gray')\n",
    "plt.figure(figsize=(1,1))\n",
    "plt.imshow(example_img, cmap='gray')"
   ]
  },
  {
   "cell_type": "code",
   "execution_count": 7,
   "metadata": {},
   "outputs": [
    {
     "name": "stdout",
     "output_type": "stream",
     "text": [
      "81.9172\n",
      "255.0\n",
      "3.0\n"
     ]
    }
   ],
   "source": [
    "print(np.mean(X_train))\n",
    "print(np.max(X_train))\n",
    "print(np.min(X_train))"
   ]
  },
  {
   "cell_type": "code",
   "execution_count": 8,
   "metadata": {},
   "outputs": [],
   "source": [
    "### Preprocess the data here. It is required to normalize the data. Other preprocessing steps could include \n",
    "### converting to grayscale, etc.\n",
    "### Feel free to use as many code cells as needed.\n",
    "\n",
    "# Normalize\n",
    "mean = np.mean(X_train)\n",
    "X_train = (X_train - mean)/128.0\n",
    "X_valid = (X_valid - mean)/128.0\n",
    "X_test = (X_test - mean)/128.0"
   ]
  },
  {
   "cell_type": "code",
   "execution_count": 9,
   "metadata": {},
   "outputs": [
    {
     "name": "stdout",
     "output_type": "stream",
     "text": [
      "4.27713e-07\n",
      "1.35221\n",
      "-0.616541\n"
     ]
    }
   ],
   "source": [
    "print(np.mean(X_train))\n",
    "print(np.max(X_train))\n",
    "print(np.min(X_train))"
   ]
  },
  {
   "cell_type": "markdown",
   "metadata": {},
   "source": [
    "### Model Architecture"
   ]
  },
  {
   "cell_type": "code",
   "execution_count": 28,
   "metadata": {},
   "outputs": [],
   "source": [
    "def model(X):\n",
    "    mu = 0.0 # 0 seems to only output 0's\n",
    "    sigma = 0.25\n",
    "    padding = 'VALID'\n",
    "    \n",
    "    #Conv1\n",
    "    W1 = tf.Variable(tf.truncated_normal([5,5,1,20], mean=mu, stddev=sigma))\n",
    "    b1 = tf.Variable(tf.zeros(20))\n",
    "    stride1 = [1,1,1,1]\n",
    "    conv1 = tf.nn.conv2d(x, W1, stride1, padding)\n",
    "    conv1 = tf.nn.bias_add(conv1, b1)\n",
    "    \n",
    "    act1 = tf.nn.relu(conv1)\n",
    "    \n",
    "    pool1 = tf.nn.max_pool(act1, [1,2,2,1], [1,2,2,1], padding=padding)\n",
    "    print(pool1.get_shape())\n",
    "    \n",
    "    \n",
    "    #conv2\n",
    "    W2 = tf.Variable(tf.truncated_normal([5,5,20,36], mean=mu, stddev=sigma))\n",
    "    b2 = tf.Variable(tf.zeros(36))\n",
    "    stride2 = [1,1,1,1]\n",
    "    conv2 = tf.nn.conv2d(pool1, W2, stride2, padding)\n",
    "    conv2 = tf.nn.bias_add(conv2, b2)\n",
    "    \n",
    "    act2 = tf.nn.relu(conv2)\n",
    "    pool2 = tf.nn.max_pool(act2, [1,2,2,1], [1,2,2,1], padding=padding)\n",
    "    print('pool2', pool2.get_shape())\n",
    "    \n",
    "    #Dense 1\n",
    "    flatten1 = tf.reshape(pool2, [-1, 5*5*36])\n",
    "    dropout = tf.nn.dropout(flatten1, keep_prob)\n",
    "    \n",
    "    W3 = tf.Variable(tf.truncated_normal([5*5*36, 400], mean=mu, stddev=sigma))\n",
    "    b3 = tf.Variable(tf.zeros(400))\n",
    "    dense1 = tf.matmul(dropout, W3)\n",
    "    dense1 = tf.nn.bias_add(dense1, b3)\n",
    "    act3 = tf.nn.relu(dense1)\n",
    "    \n",
    "    #Dense 2\n",
    "    dropout2 = tf.nn.dropout(act3, keep_prob)\n",
    "    W4 = tf.Variable(tf.truncated_normal([400, 120], mean=mu, stddev=sigma))\n",
    "    b4 = tf.Variable(tf.zeros(120))\n",
    "    dense2 = tf.matmul(dropout2, W4)\n",
    "    dense2 = tf.nn.bias_add(dense2, b4)\n",
    "    act4 = tf.nn.relu(dense2)\n",
    "    \n",
    "    #Dense 3\n",
    "    W5 = tf.Variable(tf.truncated_normal([120, 84], mean=mu, stddev=sigma))\n",
    "    b5 = tf.Variable(tf.zeros(84))\n",
    "    dense3 = tf.matmul(act4, W5)\n",
    "    dense3 = tf.nn.bias_add(dense3, b5)\n",
    "    act5 = tf.nn.relu(dense3)\n",
    "    \n",
    "    #Dense 4\n",
    "    W6 = tf.Variable(tf.truncated_normal([84, 43], mean=mu, stddev=sigma))\n",
    "    b6 = tf.Variable(tf.zeros(43))\n",
    "    dense4 = tf.matmul(act5, W6)\n",
    "    logits = tf.nn.bias_add(dense4, b6)\n",
    "    \n",
    "    return logits"
   ]
  },
  {
   "cell_type": "markdown",
   "metadata": {},
   "source": [
    "### Train, Validate and Test the Model"
   ]
  },
  {
   "cell_type": "markdown",
   "metadata": {},
   "source": [
    "A validation set can be used to assess how well the model is performing. A low accuracy on the training and validation\n",
    "sets imply underfitting. A high accuracy on the training set but low accuracy on the validation set implies overfitting."
   ]
  },
  {
   "cell_type": "code",
   "execution_count": 29,
   "metadata": {},
   "outputs": [],
   "source": [
    "### Train your model here.\n",
    "### Calculate and report the accuracy on the training and validation set.\n",
    "### Once a final model architecture is selected, \n",
    "### the accuracy on the test set should be calculated and reported as well.\n",
    "### Feel free to use as many code cells as needed.\n",
    "\n",
    "#Place holders\n",
    "x = tf.placeholder(tf.float32, (None, 32, 32, 1))\n",
    "y = tf.placeholder(tf.int32, (None))\n",
    "keep_prob = tf.placeholder(tf.float32)\n",
    "one_hot_y = tf.one_hot(y, 43)"
   ]
  },
  {
   "cell_type": "code",
   "execution_count": 33,
   "metadata": {
    "scrolled": false
   },
   "outputs": [
    {
     "name": "stdout",
     "output_type": "stream",
     "text": [
      "(?, 14, 14, 20)\n",
      "pool2 (?, 5, 5, 36)\n"
     ]
    }
   ],
   "source": [
    "rate = 0.005\n",
    "\n",
    "logits = model(x)\n",
    "cross_entropy = tf.nn.softmax_cross_entropy_with_logits(labels=one_hot_y, logits=logits)\n",
    "\n",
    "loss_operation = tf.reduce_mean(cross_entropy)\n",
    "optimizer = tf.train.AdamOptimizer(learning_rate = rate)\n",
    "training_operation = optimizer.minimize(loss_operation)"
   ]
  },
  {
   "cell_type": "code",
   "execution_count": 34,
   "metadata": {},
   "outputs": [],
   "source": [
    "index = tf.argmax(logits, 1)\n",
    "correct_prediction = tf.equal(index, tf.argmax(one_hot_y, 1))\n",
    "prediction = tf.cast(index, tf.float32)\n",
    "accuracy_operation = tf.reduce_mean(tf.cast(correct_prediction, tf.float32))\n",
    "saver = tf.train.Saver()\n",
    "\n",
    "def evaluate(X_data, y_data):\n",
    "    num_examples = len(X_data)\n",
    "    total_accuracy = 0\n",
    "    sess = tf.get_default_session()\n",
    "    for offset in range(0, num_examples, BATCH_SIZE):\n",
    "        batch_x, batch_y = X_data[offset:offset+BATCH_SIZE], y_data[offset:offset+BATCH_SIZE]\n",
    "        accuracy = sess.run(accuracy_operation, feed_dict={x: batch_x, y: batch_y, keep_prob: 1.0})\n",
    "        total_accuracy += (accuracy * len(batch_x))\n",
    "        pred = sess.run(index, feed_dict={x: batch_x, y: batch_y, keep_prob: 1.0})\n",
    "    #print(\"Accurate out of Num Examples\",total_accuracy, num_examples)\n",
    "    #print(\"Guess\", pred)\n",
    "    #tf.Print(prediction, [prediction], message=\"Guess Number\")\n",
    "    return total_accuracy / num_examples"
   ]
  },
  {
   "cell_type": "code",
   "execution_count": 35,
   "metadata": {
    "scrolled": true
   },
   "outputs": [
    {
     "name": "stdout",
     "output_type": "stream",
     "text": [
      "Training...\n",
      "\n",
      "EPOCH 1 ...\n",
      "Validation Accuracy = 0.121\n",
      "Train Accuracy = 0.127\n",
      "Saving best seen model on epoch #1\n",
      "EPOCH 2 ...\n",
      "Validation Accuracy = 0.235\n",
      "Train Accuracy = 0.274\n",
      "Saving best seen model on epoch #2\n",
      "EPOCH 3 ...\n",
      "Validation Accuracy = 0.393\n",
      "Train Accuracy = 0.424\n",
      "Saving best seen model on epoch #3\n",
      "EPOCH 4 ...\n",
      "Validation Accuracy = 0.531\n",
      "Train Accuracy = 0.572\n",
      "Saving best seen model on epoch #4\n",
      "EPOCH 5 ...\n",
      "Validation Accuracy = 0.625\n",
      "Train Accuracy = 0.677\n",
      "Saving best seen model on epoch #5\n",
      "EPOCH 6 ...\n",
      "Validation Accuracy = 0.662\n",
      "Train Accuracy = 0.734\n",
      "Saving best seen model on epoch #6\n",
      "EPOCH 7 ...\n",
      "Validation Accuracy = 0.764\n",
      "Train Accuracy = 0.837\n",
      "Saving best seen model on epoch #7\n",
      "EPOCH 8 ...\n",
      "Validation Accuracy = 0.793\n",
      "Train Accuracy = 0.857\n",
      "Saving best seen model on epoch #8\n",
      "EPOCH 9 ...\n",
      "Validation Accuracy = 0.831\n",
      "Train Accuracy = 0.888\n",
      "Saving best seen model on epoch #9\n",
      "EPOCH 10 ...\n",
      "Validation Accuracy = 0.850\n",
      "Train Accuracy = 0.907\n",
      "Saving best seen model on epoch #10\n",
      "EPOCH 11 ...\n",
      "Validation Accuracy = 0.888\n",
      "Train Accuracy = 0.937\n",
      "Saving best seen model on epoch #11\n",
      "EPOCH 12 ...\n",
      "Validation Accuracy = 0.882\n",
      "Train Accuracy = 0.942\n",
      "EPOCH 13 ...\n",
      "Validation Accuracy = 0.892\n",
      "Train Accuracy = 0.950\n",
      "Saving best seen model on epoch #13\n",
      "EPOCH 14 ...\n",
      "Validation Accuracy = 0.912\n",
      "Train Accuracy = 0.963\n",
      "Saving best seen model on epoch #14\n",
      "EPOCH 15 ...\n",
      "Validation Accuracy = 0.907\n",
      "Train Accuracy = 0.963\n",
      "EPOCH 16 ...\n",
      "Validation Accuracy = 0.926\n",
      "Train Accuracy = 0.970\n",
      "Saving best seen model on epoch #16\n",
      "EPOCH 17 ...\n",
      "Validation Accuracy = 0.916\n",
      "Train Accuracy = 0.967\n",
      "EPOCH 18 ...\n",
      "Validation Accuracy = 0.929\n",
      "Train Accuracy = 0.969\n",
      "Saving best seen model on epoch #18\n",
      "EPOCH 19 ...\n",
      "Validation Accuracy = 0.920\n",
      "Train Accuracy = 0.969\n",
      "EPOCH 20 ...\n",
      "Validation Accuracy = 0.943\n",
      "Train Accuracy = 0.978\n",
      "Saving best seen model on epoch #20\n",
      "EPOCH 21 ...\n",
      "Validation Accuracy = 0.930\n",
      "Train Accuracy = 0.972\n",
      "EPOCH 22 ...\n",
      "Validation Accuracy = 0.944\n",
      "Train Accuracy = 0.984\n",
      "Saving best seen model on epoch #22\n",
      "EPOCH 23 ...\n",
      "Validation Accuracy = 0.944\n",
      "Train Accuracy = 0.983\n",
      "EPOCH 24 ...\n",
      "Validation Accuracy = 0.937\n",
      "Train Accuracy = 0.984\n",
      "EPOCH 25 ...\n",
      "Validation Accuracy = 0.944\n",
      "Train Accuracy = 0.984\n",
      "EPOCH 26 ...\n",
      "Validation Accuracy = 0.946\n",
      "Train Accuracy = 0.987\n",
      "Saving best seen model on epoch #26\n",
      "EPOCH 27 ...\n",
      "Validation Accuracy = 0.954\n",
      "Train Accuracy = 0.986\n",
      "Saving best seen model on epoch #27\n",
      "EPOCH 28 ...\n",
      "Validation Accuracy = 0.950\n",
      "Train Accuracy = 0.989\n",
      "EPOCH 29 ...\n",
      "Validation Accuracy = 0.938\n",
      "Train Accuracy = 0.984\n",
      "EPOCH 30 ...\n",
      "Validation Accuracy = 0.932\n",
      "Train Accuracy = 0.986\n",
      "EPOCH 31 ...\n",
      "Validation Accuracy = 0.954\n",
      "Train Accuracy = 0.990\n",
      "EPOCH 32 ...\n",
      "Validation Accuracy = 0.953\n",
      "Train Accuracy = 0.989\n",
      "EPOCH 33 ...\n",
      "Validation Accuracy = 0.948\n",
      "Train Accuracy = 0.990\n",
      "EPOCH 34 ...\n",
      "Validation Accuracy = 0.957\n",
      "Train Accuracy = 0.990\n",
      "Saving best seen model on epoch #34\n",
      "EPOCH 35 ...\n",
      "Validation Accuracy = 0.949\n",
      "Train Accuracy = 0.992\n",
      "EPOCH 36 ...\n",
      "Validation Accuracy = 0.952\n",
      "Train Accuracy = 0.991\n",
      "EPOCH 37 ...\n",
      "Validation Accuracy = 0.952\n",
      "Train Accuracy = 0.995\n",
      "EPOCH 38 ...\n",
      "Validation Accuracy = 0.950\n",
      "Train Accuracy = 0.989\n",
      "EPOCH 39 ...\n",
      "Validation Accuracy = 0.922\n",
      "Train Accuracy = 0.983\n",
      "EPOCH 40 ...\n",
      "Validation Accuracy = 0.947\n",
      "Train Accuracy = 0.991\n",
      "EPOCH 41 ...\n",
      "Validation Accuracy = 0.934\n",
      "Train Accuracy = 0.981\n",
      "EPOCH 42 ...\n",
      "Validation Accuracy = 0.954\n",
      "Train Accuracy = 0.992\n",
      "EPOCH 43 ...\n",
      "Validation Accuracy = 0.950\n",
      "Train Accuracy = 0.996\n",
      "EPOCH 44 ...\n",
      "Validation Accuracy = 0.957\n",
      "Train Accuracy = 0.993\n",
      "EPOCH 45 ...\n",
      "Validation Accuracy = 0.939\n",
      "Train Accuracy = 0.995\n",
      "EPOCH 46 ...\n",
      "Validation Accuracy = 0.936\n",
      "Train Accuracy = 0.986\n",
      "EPOCH 47 ...\n",
      "Validation Accuracy = 0.924\n",
      "Train Accuracy = 0.987\n",
      "EPOCH 48 ...\n",
      "Validation Accuracy = 0.951\n",
      "Train Accuracy = 0.993\n",
      "EPOCH 49 ...\n",
      "Validation Accuracy = 0.957\n",
      "Train Accuracy = 0.992\n",
      "Saving best seen model on epoch #49\n",
      "EPOCH 50 ...\n",
      "Validation Accuracy = 0.954\n",
      "Train Accuracy = 0.993\n",
      "EPOCH 51 ...\n",
      "Validation Accuracy = 0.936\n",
      "Train Accuracy = 0.992\n",
      "EPOCH 52 ...\n",
      "Validation Accuracy = 0.956\n",
      "Train Accuracy = 0.993\n",
      "EPOCH 53 ...\n",
      "Validation Accuracy = 0.950\n",
      "Train Accuracy = 0.994\n",
      "EPOCH 54 ...\n",
      "Validation Accuracy = 0.946\n",
      "Train Accuracy = 0.994\n",
      "EPOCH 55 ...\n",
      "Validation Accuracy = 0.959\n",
      "Train Accuracy = 0.997\n",
      "Saving best seen model on epoch #55\n",
      "EPOCH 56 ...\n",
      "Validation Accuracy = 0.956\n",
      "Train Accuracy = 0.994\n",
      "EPOCH 57 ...\n",
      "Validation Accuracy = 0.938\n",
      "Train Accuracy = 0.988\n",
      "EPOCH 58 ...\n",
      "Validation Accuracy = 0.949\n",
      "Train Accuracy = 0.995\n",
      "EPOCH 59 ...\n",
      "Validation Accuracy = 0.956\n",
      "Train Accuracy = 0.994\n",
      "EPOCH 60 ...\n",
      "Validation Accuracy = 0.950\n",
      "Train Accuracy = 0.996\n",
      "EPOCH 61 ...\n",
      "Validation Accuracy = 0.948\n",
      "Train Accuracy = 0.996\n",
      "EPOCH 62 ...\n",
      "Validation Accuracy = 0.957\n",
      "Train Accuracy = 0.996\n",
      "EPOCH 63 ...\n",
      "Validation Accuracy = 0.942\n",
      "Train Accuracy = 0.991\n",
      "EPOCH 64 ...\n",
      "Validation Accuracy = 0.945\n",
      "Train Accuracy = 0.993\n",
      "EPOCH 65 ...\n",
      "Validation Accuracy = 0.953\n",
      "Train Accuracy = 0.997\n",
      "EPOCH 66 ...\n",
      "Validation Accuracy = 0.955\n",
      "Train Accuracy = 0.994\n",
      "EPOCH 67 ...\n",
      "Validation Accuracy = 0.940\n",
      "Train Accuracy = 0.984\n",
      "EPOCH 68 ...\n",
      "Validation Accuracy = 0.955\n",
      "Train Accuracy = 0.996\n",
      "EPOCH 69 ...\n",
      "Validation Accuracy = 0.953\n",
      "Train Accuracy = 0.997\n",
      "EPOCH 70 ...\n",
      "Validation Accuracy = 0.952\n",
      "Train Accuracy = 0.993\n",
      "EPOCH 71 ...\n",
      "Validation Accuracy = 0.953\n",
      "Train Accuracy = 0.997\n",
      "EPOCH 72 ...\n",
      "Validation Accuracy = 0.958\n",
      "Train Accuracy = 0.995\n",
      "EPOCH 73 ...\n",
      "Validation Accuracy = 0.943\n",
      "Train Accuracy = 0.993\n",
      "EPOCH 74 ...\n",
      "Validation Accuracy = 0.951\n",
      "Train Accuracy = 0.995\n",
      "EPOCH 75 ...\n",
      "Validation Accuracy = 0.956\n",
      "Train Accuracy = 0.996\n",
      "EPOCH 76 ...\n",
      "Validation Accuracy = 0.943\n",
      "Train Accuracy = 0.994\n",
      "EPOCH 77 ...\n",
      "Validation Accuracy = 0.950\n",
      "Train Accuracy = 0.987\n",
      "EPOCH 78 ...\n",
      "Validation Accuracy = 0.954\n",
      "Train Accuracy = 0.995\n",
      "EPOCH 79 ...\n",
      "Validation Accuracy = 0.956\n",
      "Train Accuracy = 0.996\n",
      "EPOCH 80 ...\n",
      "Validation Accuracy = 0.918\n",
      "Train Accuracy = 0.963\n",
      "EPOCH 81 ...\n",
      "Validation Accuracy = 0.955\n",
      "Train Accuracy = 0.996\n",
      "EPOCH 82 ...\n",
      "Validation Accuracy = 0.940\n",
      "Train Accuracy = 0.988\n",
      "EPOCH 83 ...\n",
      "Validation Accuracy = 0.951\n",
      "Train Accuracy = 0.998\n",
      "EPOCH 84 ...\n",
      "Validation Accuracy = 0.944\n",
      "Train Accuracy = 0.993\n",
      "EPOCH 85 ...\n",
      "Validation Accuracy = 0.966\n",
      "Train Accuracy = 0.996\n",
      "Saving best seen model on epoch #85\n",
      "EPOCH 86 ...\n",
      "Validation Accuracy = 0.939\n",
      "Train Accuracy = 0.985\n",
      "EPOCH 87 ...\n",
      "Validation Accuracy = 0.956\n",
      "Train Accuracy = 0.989\n",
      "EPOCH 88 ...\n",
      "Validation Accuracy = 0.912\n",
      "Train Accuracy = 0.970\n",
      "EPOCH 89 ...\n",
      "Validation Accuracy = 0.954\n",
      "Train Accuracy = 0.994\n",
      "EPOCH 90 ...\n",
      "Validation Accuracy = 0.932\n",
      "Train Accuracy = 0.988\n",
      "EPOCH 91 ...\n",
      "Validation Accuracy = 0.945\n",
      "Train Accuracy = 0.994\n",
      "EPOCH 92 ...\n",
      "Validation Accuracy = 0.957\n",
      "Train Accuracy = 0.996\n",
      "EPOCH 93 ...\n",
      "Validation Accuracy = 0.947\n",
      "Train Accuracy = 0.994\n",
      "EPOCH 94 ...\n",
      "Validation Accuracy = 0.950\n",
      "Train Accuracy = 0.995\n",
      "EPOCH 95 ...\n",
      "Validation Accuracy = 0.957\n",
      "Train Accuracy = 0.996\n",
      "EPOCH 96 ...\n",
      "Validation Accuracy = 0.939\n",
      "Train Accuracy = 0.984\n",
      "EPOCH 97 ...\n",
      "Validation Accuracy = 0.950\n",
      "Train Accuracy = 0.996\n",
      "EPOCH 98 ...\n",
      "Validation Accuracy = 0.956\n",
      "Train Accuracy = 0.998\n",
      "EPOCH 99 ...\n",
      "Validation Accuracy = 0.964\n",
      "Train Accuracy = 0.997\n",
      "EPOCH 100 ...\n",
      "Validation Accuracy = 0.950\n",
      "Train Accuracy = 0.997\n",
      "EPOCH 101 ...\n",
      "Validation Accuracy = 0.958\n",
      "Train Accuracy = 0.997\n",
      "EPOCH 102 ...\n",
      "Validation Accuracy = 0.962\n",
      "Train Accuracy = 0.996\n",
      "EPOCH 103 ...\n",
      "Validation Accuracy = 0.951\n",
      "Train Accuracy = 0.991\n",
      "EPOCH 104 ...\n",
      "Validation Accuracy = 0.954\n",
      "Train Accuracy = 0.996\n",
      "EPOCH 105 ...\n",
      "Validation Accuracy = 0.930\n",
      "Train Accuracy = 0.975\n",
      "EPOCH 106 ...\n",
      "Validation Accuracy = 0.953\n",
      "Train Accuracy = 0.990\n",
      "EPOCH 107 ...\n",
      "Validation Accuracy = 0.945\n",
      "Train Accuracy = 0.992\n",
      "EPOCH 108 ...\n",
      "Validation Accuracy = 0.951\n",
      "Train Accuracy = 0.995\n",
      "EPOCH 109 ...\n",
      "Validation Accuracy = 0.929\n",
      "Train Accuracy = 0.968\n",
      "EPOCH 110 ...\n",
      "Validation Accuracy = 0.944\n",
      "Train Accuracy = 0.992\n",
      "EPOCH 111 ...\n",
      "Validation Accuracy = 0.923\n",
      "Train Accuracy = 0.979\n",
      "EPOCH 112 ...\n",
      "Validation Accuracy = 0.956\n",
      "Train Accuracy = 0.995\n",
      "EPOCH 113 ...\n",
      "Validation Accuracy = 0.958\n",
      "Train Accuracy = 0.993\n",
      "EPOCH 114 ...\n",
      "Validation Accuracy = 0.944\n",
      "Train Accuracy = 0.988\n",
      "EPOCH 115 ...\n",
      "Validation Accuracy = 0.962\n",
      "Train Accuracy = 0.996\n"
     ]
    },
    {
     "name": "stdout",
     "output_type": "stream",
     "text": [
      "EPOCH 116 ...\n",
      "Validation Accuracy = 0.963\n",
      "Train Accuracy = 0.996\n",
      "EPOCH 117 ...\n",
      "Validation Accuracy = 0.794\n",
      "Train Accuracy = 0.819\n",
      "EPOCH 118 ...\n",
      "Validation Accuracy = 0.956\n",
      "Train Accuracy = 0.995\n",
      "EPOCH 119 ...\n",
      "Validation Accuracy = 0.966\n",
      "Train Accuracy = 0.996\n",
      "EPOCH 120 ...\n",
      "Validation Accuracy = 0.966\n",
      "Train Accuracy = 0.994\n",
      "EPOCH 121 ...\n",
      "Validation Accuracy = 0.954\n",
      "Train Accuracy = 0.999\n",
      "EPOCH 122 ...\n",
      "Validation Accuracy = 0.890\n",
      "Train Accuracy = 0.966\n",
      "EPOCH 123 ...\n",
      "Validation Accuracy = 0.958\n",
      "Train Accuracy = 0.994\n",
      "EPOCH 124 ...\n",
      "Validation Accuracy = 0.955\n",
      "Train Accuracy = 0.995\n",
      "EPOCH 125 ...\n",
      "Validation Accuracy = 0.951\n",
      "Train Accuracy = 0.995\n",
      "Model saved\n"
     ]
    }
   ],
   "source": [
    "from sklearn.utils import shuffle\n",
    "EPOCHS = 125\n",
    "X_train, y_train = shuffle(X_train, y_train)\n",
    "max_valid_acc = 0\n",
    "with tf.Session() as sess:\n",
    "    sess.run(tf.global_variables_initializer())\n",
    "    num_examples = len(X_train)\n",
    "    \n",
    "    print(\"Training...\")\n",
    "    print()\n",
    "    for i in range(EPOCHS):\n",
    "        X_train, y_train = shuffle(X_train, y_train)\n",
    "        for offset in range(0, num_examples, BATCH_SIZE):\n",
    "            end = offset + BATCH_SIZE\n",
    "            batch_x, batch_y = X_train[offset:end], y_train[offset:end]\n",
    "            sess.run(training_operation, feed_dict={x: batch_x, y: batch_y, keep_prob: 0.5})\n",
    "            \n",
    "        validation_accuracy = evaluate(X_valid, y_valid)\n",
    "        train_accuracy = evaluate(X_train[0:len(y_valid)], y_train[0:len(y_valid)])\n",
    "        print(\"EPOCH {} ...\".format(i+1))\n",
    "        print(\"Validation Accuracy = {:.3f}\".format(validation_accuracy))\n",
    "        print(\"Train Accuracy = {:.3f}\".format(train_accuracy))\n",
    "        if(validation_accuracy > max_valid_acc):\n",
    "            max_valid_acc = validation_accuracy\n",
    "            print(\"Saving best seen model on epoch #{}\".format(i+1))\n",
    "            #New best model, save this one.\n",
    "            saver.save(sess, './traffic_signs')        \n",
    "    #saver.save(sess, './traffic_signs')\n",
    "    print(\"Model saved\")"
   ]
  },
  {
   "cell_type": "markdown",
   "metadata": {},
   "source": [
    "---\n",
    "\n",
    "## Step 3: Test a Model on New Images\n",
    "\n",
    "To give yourself more insight into how your model is working, download at least five pictures of German traffic signs from the web and use your model to predict the traffic sign type.\n",
    "\n",
    "You may find `signnames.csv` useful as it contains mappings from the class id (integer) to the actual sign name."
   ]
  },
  {
   "cell_type": "markdown",
   "metadata": {},
   "source": [
    "### Load and Output the Images"
   ]
  },
  {
   "cell_type": "code",
   "execution_count": null,
   "metadata": {
    "collapsed": true
   },
   "outputs": [],
   "source": [
    "### Load the images and plot them here.\n",
    "### Feel free to use as many code cells as needed."
   ]
  },
  {
   "cell_type": "markdown",
   "metadata": {},
   "source": [
    "### Predict the Sign Type for Each Image"
   ]
  },
  {
   "cell_type": "code",
   "execution_count": null,
   "metadata": {
    "collapsed": true
   },
   "outputs": [],
   "source": [
    "### Run the predictions here and use the model to output the prediction for each image.\n",
    "### Make sure to pre-process the images with the same pre-processing pipeline used earlier.\n",
    "### Feel free to use as many code cells as needed."
   ]
  },
  {
   "cell_type": "markdown",
   "metadata": {},
   "source": [
    "### Analyze Performance"
   ]
  },
  {
   "cell_type": "code",
   "execution_count": 4,
   "metadata": {
    "collapsed": true
   },
   "outputs": [],
   "source": [
    "### Calculate the accuracy for these 5 new images. \n",
    "### For example, if the model predicted 1 out of 5 signs correctly, it's 20% accurate on these new images."
   ]
  },
  {
   "cell_type": "markdown",
   "metadata": {},
   "source": [
    "### Output Top 5 Softmax Probabilities For Each Image Found on the Web"
   ]
  },
  {
   "cell_type": "markdown",
   "metadata": {},
   "source": [
    "For each of the new images, print out the model's softmax probabilities to show the **certainty** of the model's predictions (limit the output to the top 5 probabilities for each image). [`tf.nn.top_k`](https://www.tensorflow.org/versions/r0.12/api_docs/python/nn.html#top_k) could prove helpful here. \n",
    "\n",
    "The example below demonstrates how tf.nn.top_k can be used to find the top k predictions for each image.\n",
    "\n",
    "`tf.nn.top_k` will return the values and indices (class ids) of the top k predictions. So if k=3, for each sign, it'll return the 3 largest probabilities (out of a possible 43) and the correspoding class ids.\n",
    "\n",
    "Take this numpy array as an example. The values in the array represent predictions. The array contains softmax probabilities for five candidate images with six possible classes. `tf.nn.top_k` is used to choose the three classes with the highest probability:\n",
    "\n",
    "```\n",
    "# (5, 6) array\n",
    "a = np.array([[ 0.24879643,  0.07032244,  0.12641572,  0.34763842,  0.07893497,\n",
    "         0.12789202],\n",
    "       [ 0.28086119,  0.27569815,  0.08594638,  0.0178669 ,  0.18063401,\n",
    "         0.15899337],\n",
    "       [ 0.26076848,  0.23664738,  0.08020603,  0.07001922,  0.1134371 ,\n",
    "         0.23892179],\n",
    "       [ 0.11943333,  0.29198961,  0.02605103,  0.26234032,  0.1351348 ,\n",
    "         0.16505091],\n",
    "       [ 0.09561176,  0.34396535,  0.0643941 ,  0.16240774,  0.24206137,\n",
    "         0.09155967]])\n",
    "```\n",
    "\n",
    "Running it through `sess.run(tf.nn.top_k(tf.constant(a), k=3))` produces:\n",
    "\n",
    "```\n",
    "TopKV2(values=array([[ 0.34763842,  0.24879643,  0.12789202],\n",
    "       [ 0.28086119,  0.27569815,  0.18063401],\n",
    "       [ 0.26076848,  0.23892179,  0.23664738],\n",
    "       [ 0.29198961,  0.26234032,  0.16505091],\n",
    "       [ 0.34396535,  0.24206137,  0.16240774]]), indices=array([[3, 0, 5],\n",
    "       [0, 1, 4],\n",
    "       [0, 5, 1],\n",
    "       [1, 3, 5],\n",
    "       [1, 4, 3]], dtype=int32))\n",
    "```\n",
    "\n",
    "Looking just at the first row we get `[ 0.34763842,  0.24879643,  0.12789202]`, you can confirm these are the 3 largest probabilities in `a`. You'll also notice `[3, 0, 5]` are the corresponding indices."
   ]
  },
  {
   "cell_type": "code",
   "execution_count": 3,
   "metadata": {
    "collapsed": true
   },
   "outputs": [],
   "source": [
    "### Print out the top five softmax probabilities for the predictions on the German traffic sign images found on the web. \n",
    "### Feel free to use as many code cells as needed."
   ]
  },
  {
   "cell_type": "markdown",
   "metadata": {},
   "source": [
    "### Project Writeup\n",
    "\n",
    "Once you have completed the code implementation, document your results in a project writeup using this [template](https://github.com/udacity/CarND-Traffic-Sign-Classifier-Project/blob/master/writeup_template.md) as a guide. The writeup can be in a markdown or pdf file. "
   ]
  },
  {
   "cell_type": "markdown",
   "metadata": {},
   "source": [
    "> **Note**: Once you have completed all of the code implementations and successfully answered each question above, you may finalize your work by exporting the iPython Notebook as an HTML document. You can do this by using the menu above and navigating to  \\n\",\n",
    "    \"**File -> Download as -> HTML (.html)**. Include the finished document along with this notebook as your submission."
   ]
  },
  {
   "cell_type": "markdown",
   "metadata": {},
   "source": [
    "---\n",
    "\n",
    "## Step 4 (Optional): Visualize the Neural Network's State with Test Images\n",
    "\n",
    " This Section is not required to complete but acts as an additional excersise for understaning the output of a neural network's weights. While neural networks can be a great learning device they are often referred to as a black box. We can understand what the weights of a neural network look like better by plotting their feature maps. After successfully training your neural network you can see what it's feature maps look like by plotting the output of the network's weight layers in response to a test stimuli image. From these plotted feature maps, it's possible to see what characteristics of an image the network finds interesting. For a sign, maybe the inner network feature maps react with high activation to the sign's boundary outline or to the contrast in the sign's painted symbol.\n",
    "\n",
    " Provided for you below is the function code that allows you to get the visualization output of any tensorflow weight layer you want. The inputs to the function should be a stimuli image, one used during training or a new one you provided, and then the tensorflow variable name that represents the layer's state during the training process, for instance if you wanted to see what the [LeNet lab's](https://classroom.udacity.com/nanodegrees/nd013/parts/fbf77062-5703-404e-b60c-95b78b2f3f9e/modules/6df7ae49-c61c-4bb2-a23e-6527e69209ec/lessons/601ae704-1035-4287-8b11-e2c2716217ad/concepts/d4aca031-508f-4e0b-b493-e7b706120f81) feature maps looked like for it's second convolutional layer you could enter conv2 as the tf_activation variable.\n",
    "\n",
    "For an example of what feature map outputs look like, check out NVIDIA's results in their paper [End-to-End Deep Learning for Self-Driving Cars](https://devblogs.nvidia.com/parallelforall/deep-learning-self-driving-cars/) in the section Visualization of internal CNN State. NVIDIA was able to show that their network's inner weights had high activations to road boundary lines by comparing feature maps from an image with a clear path to one without. Try experimenting with a similar test to show that your trained network's weights are looking for interesting features, whether it's looking at differences in feature maps from images with or without a sign, or even what feature maps look like in a trained network vs a completely untrained one on the same sign image.\n",
    "\n",
    "<figure>\n",
    " <img src=\"visualize_cnn.png\" width=\"380\" alt=\"Combined Image\" />\n",
    " <figcaption>\n",
    " <p></p> \n",
    " <p style=\"text-align: center;\"> Your output should look something like this (above)</p> \n",
    " </figcaption>\n",
    "</figure>\n",
    " <p></p> \n"
   ]
  },
  {
   "cell_type": "code",
   "execution_count": null,
   "metadata": {
    "collapsed": true
   },
   "outputs": [],
   "source": [
    "### Visualize your network's feature maps here.\n",
    "### Feel free to use as many code cells as needed.\n",
    "\n",
    "# image_input: the test image being fed into the network to produce the feature maps\n",
    "# tf_activation: should be a tf variable name used during your training procedure that represents the calculated state of a specific weight layer\n",
    "# activation_min/max: can be used to view the activation contrast in more detail, by default matplot sets min and max to the actual min and max values of the output\n",
    "# plt_num: used to plot out multiple different weight feature map sets on the same block, just extend the plt number for each new feature map entry\n",
    "\n",
    "def outputFeatureMap(image_input, tf_activation, activation_min=-1, activation_max=-1 ,plt_num=1):\n",
    "    # Here make sure to preprocess your image_input in a way your network expects\n",
    "    # with size, normalization, ect if needed\n",
    "    # image_input =\n",
    "    # Note: x should be the same name as your network's tensorflow data placeholder variable\n",
    "    # If you get an error tf_activation is not defined it may be having trouble accessing the variable from inside a function\n",
    "    activation = tf_activation.eval(session=sess,feed_dict={x : image_input})\n",
    "    featuremaps = activation.shape[3]\n",
    "    plt.figure(plt_num, figsize=(15,15))\n",
    "    for featuremap in range(featuremaps):\n",
    "        plt.subplot(6,8, featuremap+1) # sets the number of feature maps to show on each row and column\n",
    "        plt.title('FeatureMap ' + str(featuremap)) # displays the feature map number\n",
    "        if activation_min != -1 & activation_max != -1:\n",
    "            plt.imshow(activation[0,:,:, featuremap], interpolation=\"nearest\", vmin =activation_min, vmax=activation_max, cmap=\"gray\")\n",
    "        elif activation_max != -1:\n",
    "            plt.imshow(activation[0,:,:, featuremap], interpolation=\"nearest\", vmax=activation_max, cmap=\"gray\")\n",
    "        elif activation_min !=-1:\n",
    "            plt.imshow(activation[0,:,:, featuremap], interpolation=\"nearest\", vmin=activation_min, cmap=\"gray\")\n",
    "        else:\n",
    "            plt.imshow(activation[0,:,:, featuremap], interpolation=\"nearest\", cmap=\"gray\")"
   ]
  }
 ],
 "metadata": {
  "anaconda-cloud": {},
  "kernelspec": {
   "display_name": "Python 3",
   "language": "python",
   "name": "python3"
  },
  "language_info": {
   "codemirror_mode": {
    "name": "ipython",
    "version": 3
   },
   "file_extension": ".py",
   "mimetype": "text/x-python",
   "name": "python",
   "nbconvert_exporter": "python",
   "pygments_lexer": "ipython3",
   "version": "3.5.2"
  },
  "widgets": {
   "state": {},
   "version": "1.1.2"
  }
 },
 "nbformat": 4,
 "nbformat_minor": 1
}
